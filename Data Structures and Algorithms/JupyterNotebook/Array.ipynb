{
 "cells": [
  {
   "cell_type": "markdown",
   "metadata": {},
   "source": [
    "                        Array Data Structure in Python\n"
   ]
  },
  {
   "cell_type": "markdown",
   "metadata": {},
   "source": [
    "- Arrays are good at accesing being that it has Constant time. "
   ]
  },
  {
   "cell_type": "markdown",
   "metadata": {},
   "source": [
    "- Arrays aren't good at inserting and deleting being that they run at Linear time"
   ]
  },
  {
   "cell_type": "code",
   "execution_count": 2,
   "metadata": {},
   "outputs": [],
   "source": [
    "new_list = [1,2,3]; # Store contingously = Constant time \n",
    "\n",
    "result = new_list[0] # The 0 index vaule points to the first value in\n",
    "                     # the new list.\n",
    "\n"
   ]
  },
  {
   "cell_type": "markdown",
   "metadata": {},
   "source": [
    "Methods to search a list Data structure "
   ]
  },
  {
   "cell_type": "code",
   "execution_count": 3,
   "metadata": {},
   "outputs": [
    {
     "name": "stdout",
     "output_type": "stream",
     "text": [
      "True\n"
     ]
    }
   ],
   "source": [
    "# We can use the \"in\" operator to search a list\n",
    "if 2 in new_list: print(True);"
   ]
  },
  {
   "cell_type": "code",
   "execution_count": 8,
   "metadata": {},
   "outputs": [
    {
     "name": "stdout",
     "output_type": "stream",
     "text": [
      "True\n"
     ]
    }
   ],
   "source": [
    "# We could also use a for loop to iterate through the list \n",
    "for i in new_list:\n",
    "    if i == 1:\n",
    "        print(True)\n",
    "    break;"
   ]
  },
  {
   "cell_type": "markdown",
   "metadata": {},
   "source": [
    "Adding items into a list "
   ]
  },
  {
   "cell_type": "markdown",
   "metadata": {},
   "source": [
    "- Append operations = Constant space complexity"
   ]
  },
  {
   "cell_type": "code",
   "execution_count": 14,
   "metadata": {},
   "outputs": [
    {
     "name": "stdout",
     "output_type": "stream",
     "text": [
      "[12, 4, 5, 6]\n"
     ]
    }
   ],
   "source": [
    "# You can append to the end of a list a value. Append has Constant Time \n",
    "# Run Time due to you not having to reorder the entire list.\n",
    "\n",
    "list = [12,4,5,]\n",
    "\n",
    "list.append(6);\n",
    "\n",
    "print(list)"
   ]
  },
  {
   "cell_type": "code",
   "execution_count": 33,
   "metadata": {},
   "outputs": [
    {
     "name": "stdout",
     "output_type": "stream",
     "text": [
      "0\n"
     ]
    }
   ],
   "source": [
    "# It's important to note that the number of items in the list and the \n",
    "# amount of memmory allocated is not dertmined by the same means.\n",
    "\n",
    "# For example: N + 1 is how space for a list is allocated, So if a list\n",
    "# has zero items it will still have 1 soace of memory allocated torwards\n",
    "# that list.\n",
    "\n",
    "# Space allocated = 1. Size of list = 0.  \n",
    "list = [];\n",
    "print(len(list));\n",
    "\n",
    "# Printing the length of the list we see that it has a output of zero \n",
    "# but as explain previously the amount of soace allocated is N + 1."
   ]
  },
  {
   "cell_type": "code",
   "execution_count": 34,
   "metadata": {},
   "outputs": [
    {
     "name": "stdout",
     "output_type": "stream",
     "text": [
      "88\n",
      "2\n"
     ]
    }
   ],
   "source": [
    "# By appending one item into a empty list we would be matching the amount\n",
    "# of space allocated to the list to the number of item in the list.\n",
    "\n",
    "# Space allocated = 1. Size of list = 1. \n",
    "list = []\n",
    "list.append(2)\n",
    "\n",
    "# Appending another item to the list requries a list Resize opeeration. \n",
    "# How Python handles this isnt by calling a resize opertaion every time \n",
    "# we add an item to the list, it has a growth pattern it uses to determine\n",
    "# when to resize the list for more space. So having the space allocated to\n",
    "# list exceed the size of list is expected at times. The growth pattern is \n",
    "# 0,4,8,16,25,35,46 etc... The resize operation is ran as the size of the\n",
    "# list approches theese values. ---->"
   ]
  },
  {
   "cell_type": "code",
   "execution_count": 50,
   "metadata": {},
   "outputs": [
    {
     "name": "stdout",
     "output_type": "stream",
     "text": [
      "4\n"
     ]
    }
   ],
   "source": [
    " # <---- An example of this would the follwing:\n",
    "\n",
    "# Space allocated = 8. Size of list = 4. \n",
    "list = []\n",
    "list.append(1)\n",
    "list.append(2)\n",
    "list.append(3)\n",
    "list.append(4)\n",
    "print(len(list)); \n",
    "\n",
    "# Though the output for the length of the list will be 4. The space allocated \n",
    "# is 8, in accordance with the growth pattern. "
   ]
  },
  {
   "cell_type": "markdown",
   "metadata": {},
   "source": [
    "- Inserting items in a list \n"
   ]
  },
  {
   "cell_type": "code",
   "execution_count": 54,
   "metadata": {},
   "outputs": [
    {
     "name": "stdout",
     "output_type": "stream",
     "text": [
      "[1, 2, 3, 4, 5, 5, 5, 5, 5, 5, 5, 5, 5, 5, 5, 5, 55, 5, 5, 55, 5, 5, 5, 5, 5, 5, 5, 5]\n"
     ]
    }
   ],
   "source": [
    "# The behaviors above apply to insert method as well. What makes inserting\n",
    "# a more expensive method is that every element needs to be shifted over one\n",
    "# space as you add items. \n",
    "\n",
    "list = [1,3,4,]\n",
    "list.insert(1,2)\n",
    "print(list)"
   ]
  },
  {
   "cell_type": "markdown",
   "metadata": {},
   "source": [
    "- Extending a list | Runtime = O(K)\n"
   ]
  },
  {
   "cell_type": "markdown",
   "metadata": {},
   "source": [
    "K represents the number of items in the list that are added to the existing list"
   ]
  },
  {
   "cell_type": "code",
   "execution_count": 55,
   "metadata": {},
   "outputs": [
    {
     "name": "stdout",
     "output_type": "stream",
     "text": [
      "[1, 2, 3]\n"
     ]
    }
   ],
   "source": [
    "# Extending a list enables us to add a list to another list.\n",
    "# The extend method is esstinally a series of append calls until \n",
    "# all of the items in the list is added to the list in question.\n",
    "\n",
    "list = []\n",
    "list.extend([1,2,3])\n",
    "print(list)"
   ]
  },
  {
   "cell_type": "markdown",
   "metadata": {},
   "source": [
    "Delete operation\n"
   ]
  },
  {
   "cell_type": "code",
   "execution_count": 58,
   "metadata": {},
   "outputs": [
    {
     "name": "stdout",
     "output_type": "stream",
     "text": [
      "[1, 2, 3]\n"
     ]
    }
   ],
   "source": [
    "# Like the insert operation the delete operation needs to rearrange the list\n",
    "# after a item is removed. The only differnce is that instead of adding to the \n",
    "# index of each item, the delete opertaion subtracts 1 from each item.\n",
    "\n",
    "list = [1,2,3,5]\n",
    "list.remove(5)\n",
    "print(list)"
   ]
  }
 ],
 "metadata": {
  "kernelspec": {
   "display_name": "Python 3.10.5 64-bit",
   "language": "python",
   "name": "python3"
  },
  "language_info": {
   "codemirror_mode": {
    "name": "ipython",
    "version": 3
   },
   "file_extension": ".py",
   "mimetype": "text/x-python",
   "name": "python",
   "nbconvert_exporter": "python",
   "pygments_lexer": "ipython3",
   "version": "3.10.5"
  },
  "orig_nbformat": 4,
  "vscode": {
   "interpreter": {
    "hash": "aee8b7b246df8f9039afb4144a1f6fd8d2ca17a180786b69acc140d282b71a49"
   }
  }
 },
 "nbformat": 4,
 "nbformat_minor": 2
}
