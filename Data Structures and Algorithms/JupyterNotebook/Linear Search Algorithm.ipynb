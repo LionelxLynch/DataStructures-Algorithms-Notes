{
 "cells": [
  {
   "cell_type": "markdown",
   "metadata": {},
   "source": [
    "                                                    Linear Search algorithm | Complexity = O(n)"
   ]
  },
  {
   "cell_type": "code",
   "execution_count": 33,
   "metadata": {},
   "outputs": [
    {
     "data": {
      "text/plain": [
       "3"
      ]
     },
     "execution_count": 33,
     "metadata": {},
     "output_type": "execute_result"
    }
   ],
   "source": [
    "# Step 1: You want to have a dataset to search through\n",
    "arr = [23,34,56,12,675,23,7,832,3,5];\n",
    "\n",
    "# Note: In a linear search algo you dont need the list to be ordered since \n",
    "# you're going to end up iterating through the entire dataset anyway.\n",
    "\n",
    "# Note: You want to determine a key value, ie a value to search for in the dataset. \n",
    "# In this case lets says it's 7.\n",
    "\n",
    "# Step 2: To iterate through a list we are going to use a loop, in specfic a FOR loop.\n",
    "# Using the FOR loop we will run a series of comparison operators between the KEY value and every number we iterate over.\n",
    "\n",
    "def linearSearch(key, list): \n",
    "    for i in range(len(list)):\n",
    "        if list[i] == key:\n",
    "            return i\n",
    "    return None \n",
    "\n",
    "linearSearch(12,arr)\n",
    "\n",
    "# Note: An algorithm like this is good for small datasets, being that its time \n",
    "# complexity is \"N\"; meaning as the size of the dataset increases so does the time \n",
    "# the algo takes to complete."
   ]
  }
 ],
 "metadata": {
  "kernelspec": {
   "display_name": "Python 3.10.5 64-bit",
   "language": "python",
   "name": "python3"
  },
  "language_info": {
   "codemirror_mode": {
    "name": "ipython",
    "version": 3
   },
   "file_extension": ".py",
   "mimetype": "text/x-python",
   "name": "python",
   "nbconvert_exporter": "python",
   "pygments_lexer": "ipython3",
   "version": "3.10.5"
  },
  "orig_nbformat": 4,
  "vscode": {
   "interpreter": {
    "hash": "aee8b7b246df8f9039afb4144a1f6fd8d2ca17a180786b69acc140d282b71a49"
   }
  }
 },
 "nbformat": 4,
 "nbformat_minor": 2
}
