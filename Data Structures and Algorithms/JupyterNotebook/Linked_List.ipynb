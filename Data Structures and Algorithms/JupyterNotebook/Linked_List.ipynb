{
 "cells": [
  {
   "cell_type": "markdown",
   "metadata": {},
   "source": [
    "                            Linked List"
   ]
  },
  {
   "cell_type": "markdown",
   "metadata": {},
   "source": [
    "- Linked list have what is called a Node. A Node has two pieces of information. The first piece of information is the item store and the second piece is a refrence to the next item in the list. "
   ]
  },
  {
   "cell_type": "markdown",
   "metadata": {},
   "source": [
    "- The First Node in a linked list is called the \"Head\" and the last item the \"Tail\""
   ]
  },
  {
   "cell_type": "markdown",
   "metadata": {},
   "source": [
    "- The Tail of a linked list doesn't point to anything"
   ]
  },
  {
   "cell_type": "markdown",
   "metadata": {},
   "source": [
    "- Nodes are also known as self referential objects "
   ]
  },
  {
   "cell_type": "markdown",
   "metadata": {},
   "source": [
    "- There exist singly linked list where each node has a refernce to the Node after it. But there also exist doubly linked list where each Node has a reference to the Node before and after its instances."
   ]
  },
  {
   "cell_type": "markdown",
   "metadata": {},
   "source": [
    "Singly Linked List "
   ]
  },
  {
   "cell_type": "code",
   "execution_count": 5,
   "metadata": {},
   "outputs": [
    {
     "data": {
      "text/plain": [
       "[Head: 1]->[2]->[3]->[Tail: 5]"
      ]
     },
     "execution_count": 5,
     "metadata": {},
     "output_type": "execute_result"
    }
   ],
   "source": [
    "# To create a linked list we first need to create a Class Object to represent\n",
    "# the Node.\n",
    "\n",
    "class Node:\n",
    "    # Stores a data point and a reference to the next data point ahead \n",
    "    # of it in a list.\n",
    "    data = None\n",
    "    next_node = None\n",
    "\n",
    "    # Constructor to asist in creating nodes\n",
    "    def __init__(self,data):\n",
    "        self.data = data\n",
    "    \n",
    "    # Allows you define how you want the data of your class to be represented\n",
    "    # via string interpolation. The %s in the string is a place holder for the\n",
    "    # data of your choosing.\n",
    "    def __repr__(self):\n",
    "        return \"Node data: %s\" % self.data\n",
    "\n",
    "# Singly linked list | Linear Run Time \n",
    "class LinkedList:\n",
    "    # Head Node of the linked list \n",
    "    def __init__(self):\n",
    "        self.head = None\n",
    "\n",
    "    # Accounts for a empty list\n",
    "    def is_empty(self):\n",
    "        return self.head == None \n",
    "    \n",
    "    # Calculating the size of a linked list\n",
    "    def size(self):\n",
    "         current = self.head\n",
    "         count = 0\n",
    "         while current != None:\n",
    "            count += 1\n",
    "            current = current.next_node\n",
    "         return count\n",
    "           \n",
    "    # Mehtod to add items to a linked list\n",
    "    # Esstinal the add method swaps the currrent head with the new \n",
    "    # head its a Constant Time operation\n",
    "    def add(self, data):\n",
    "        new_node =  Node(data)\n",
    "        new_node.next_node = self.head \n",
    "        self.head = new_node\n",
    "\n",
    "    # Search for the first Node that matches \n",
    "    def search(self, key): \n",
    "        current = self.head\n",
    "\n",
    "        while current:\n",
    "            if current.data == key:\n",
    "                return current\n",
    "            else:\n",
    "                current = current.next_node\n",
    "        return None\n",
    "\n",
    "    # Time complexity of O(1) (Linear) because we still have to traverse the list\n",
    "    # Even though we dont move ever item in the list  \n",
    "\n",
    "    # Note: if we had refernce to the Head or the tail we could simply\n",
    "    # append the first or last element and have it run at Constant time O(N)\n",
    "    def insert(self,data,index):\n",
    "        # If the index is 0 ie the Head, insert the data point at the \n",
    "        # into the first index position\n",
    "        if index == 0:\n",
    "            self.add(data)\n",
    "        # If the index is larger than zero, we know need to figure out\n",
    "        # where in the list we want to place said data point\n",
    "        if index > 0:\n",
    "            new = Node(data)\n",
    "        \n",
    "            position = index # The position equals the index put in by the user \n",
    "            current = self.head  # Current Node equals the Head of the linked list\n",
    "\n",
    "            # while the index is  greater than the head current node \n",
    "            # equals the next node. This is how we traverse the list \n",
    "            while position > 1:\n",
    "                current = current.next_node  \n",
    "                position -= 1 # We then decrement the index/position so we\n",
    "                              # have the previous node as a refrence for the\n",
    "                              # placement of the new node \n",
    "\n",
    "            # We place the new Node after the previous node, by v\n",
    "            # setting new = to the next node after previous(prev_ndoe)\n",
    "            prev_node = current \n",
    "            next_nodelocal = current.next_node    \n",
    "            prev_node.next_node = new \n",
    "    \n",
    "    # Removes node containing data matching the key \n",
    "    def remove(self,key):\n",
    "        current = self.head\n",
    "        prev_node = None\n",
    "        found = False\n",
    "\n",
    "        while current and not found:\n",
    "            if current.data == key and current == self.head:\n",
    "                found = True \n",
    "                current.next_node = self.head\n",
    "            elif current.data == key:\n",
    "                found = True \n",
    "                prev_node.next_node = current.next_node\n",
    "            else:\n",
    "                prev_node = current \n",
    "                current = current.next_node\n",
    "        return current\n",
    "\n",
    "    # Returns a string representation of the list. \n",
    "    # Take O(n) Time/Linear Time.\n",
    "    def __repr__(self):\n",
    "        nodes = []\n",
    "        current = self.head\n",
    "\n",
    "        while current:\n",
    "            if current is self.head:\n",
    "                nodes.append(\"[Head: %s]\" % current.data)\n",
    "            elif current.next_node is None:\n",
    "                nodes.append(\"[Tail: %s]\" % current.data)\n",
    "            else:\n",
    "                nodes.append(\"[%s]\" % current.data)\n",
    "\n",
    "            current = current.next_node\n",
    "        return '->'.join(nodes)\n",
    "\n",
    "l = LinkedList()\n",
    "l.add(5)\n",
    "l.add(4)\n",
    "l.add(3)\n",
    "l.add(2)\n",
    "l.add(1)\n",
    "l.remove(4)\n",
    "l"
   ]
  },
  {
   "cell_type": "code",
   "execution_count": null,
   "metadata": {},
   "outputs": [],
   "source": [
    "\n"
   ]
  }
 ],
 "metadata": {
  "kernelspec": {
   "display_name": "Python 3.10.5 64-bit",
   "language": "python",
   "name": "python3"
  },
  "language_info": {
   "codemirror_mode": {
    "name": "ipython",
    "version": 3
   },
   "file_extension": ".py",
   "mimetype": "text/x-python",
   "name": "python",
   "nbconvert_exporter": "python",
   "pygments_lexer": "ipython3",
   "version": "3.10.5"
  },
  "orig_nbformat": 4,
  "vscode": {
   "interpreter": {
    "hash": "aee8b7b246df8f9039afb4144a1f6fd8d2ca17a180786b69acc140d282b71a49"
   }
  }
 },
 "nbformat": 4,
 "nbformat_minor": 2
}
