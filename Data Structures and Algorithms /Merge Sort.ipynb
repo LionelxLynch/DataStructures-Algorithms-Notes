{
 "cells": [
  {
   "cell_type": "markdown",
   "metadata": {},
   "source": [
    "                                Merge Sort"
   ]
  },
  {
   "cell_type": "markdown",
   "metadata": {},
   "source": [
    "- Merge sort breaks down data sets into halfs, then repeats this process until the data set has been broken up into singles. Once broken up we then reassemble the list ordering the micro list until we have reassembled list thats now ordered \n"
   ]
  },
  {
   "cell_type": "markdown",
   "metadata": {},
   "source": [
    "Steps to create a merge sort data structure:\n",
    "- Divide: Find the midpoint of the list and divide into sublist \n",
    "- Conquer: Recursively sort the sublists created in previous step\n",
    "- Combine: Merge the sorted sublists created in previous "
   ]
  },
  {
   "cell_type": "code",
   "execution_count": null,
   "metadata": {},
   "outputs": [],
   "source": [
    "\n",
    "def merge_sort(list):\n",
    "    # Escape case\n",
    "    if len(list) <= 1:\n",
    "        return list\n",
    "\n",
    "    left_half, right_half = split(list);\n",
    "    left = merge_sort(left_half)\n",
    "    right = merge_sort(right_half)\n",
    "\n",
    "    return merge(left,right)\n",
    "\n",
    "# Split function \n",
    "def split(list):\n",
    "    mid = len(list)//2\n",
    "\n",
    "    left = list[:mid]\n",
    "    right = list[mid:]\n",
    "\n",
    "    return left,right\n",
    "\n",
    "# Merge function\n",
    "def merge(left,right):\n",
    "\n",
    "    # Creates list and keeps track of the index of each side of the list \n",
    "    l = []\n",
    "    i = 0 \n",
    "    j = 0\n",
    "\n",
    "    # \n",
    "    while i < len(left) and j < len(right):\n",
    "        if left[i] < right[j]:\n",
    "            l.append(left[i])\n",
    "            i+=1\n",
    "        else:\n",
    "            l.append(right[j])\n",
    "            j+=1\n",
    "\n",
    "    while i < len(left):\n",
    "        l.append(left[i])\n",
    "        i+=1\n",
    "\n",
    "    while j < len(right):\n",
    "        l.append(right[j])\n",
    "        j+=1\n",
    "\n",
    "\n",
    "\n",
    "\n",
    "\n",
    "\n",
    "\n",
    "\n",
    "\n",
    "\n",
    "     \n",
    "\n",
    "    \n",
    "\n",
    "     \n",
    "    \n",
    "\n",
    "    \n"
   ]
  }
 ],
 "metadata": {
  "language_info": {
   "name": "python"
  },
  "orig_nbformat": 4
 },
 "nbformat": 4,
 "nbformat_minor": 2
}
